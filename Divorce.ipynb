{
 "cells": [
  {
   "cell_type": "code",
   "execution_count": 1,
   "id": "2cafda9f",
   "metadata": {},
   "outputs": [
    {
     "name": "stdout",
     "output_type": "stream",
     "text": [
      "Requirement already satisfied: joblib in ./.local/lib/python3.8/site-packages (1.0.1)\r\n"
     ]
    }
   ],
   "source": [
    "# !pip install pandas\n",
    "# !pip install scikit-learn\n",
    "# !pip install joblib"
   ]
  },
  {
   "cell_type": "code",
   "execution_count": 2,
   "id": "0c201a68",
   "metadata": {},
   "outputs": [],
   "source": [
    "import pandas as pd\n",
    "from sklearn.model_selection import train_test_split\n",
    "from sklearn.ensemble import RandomForestRegressor\n",
    "from sklearn.metrics import mean_absolute_error\n",
    "import pickle\n",
    "from joblib import dump, load"
   ]
  },
  {
   "cell_type": "code",
   "execution_count": 3,
   "id": "cf585b5d",
   "metadata": {},
   "outputs": [
    {
     "name": "stdout",
     "output_type": "stream",
     "text": [
      "[0.   1.   0.03 0.   0.06 0.   1.   1.   0.   1.   1.   1.   1.   0.\n",
      " 1.   1.   0.   0.96 1.   1.   1.   1.   1.   0.   0.   0.01 1.   1.\n",
      " 1.   1.   0.   0.   0.04 1.  ]\n",
      "0.005294117647058825\n"
     ]
    }
   ],
   "source": [
    "data = pd.read_csv('divorce_data.csv', sep=\";\")\n",
    "X = data.drop(['Divorce'], axis=1)\n",
    "y = data['Divorce']\n",
    "\n",
    "X_train, X_test, y_train, y_test = train_test_split(X, y, train_size=0.8, test_size=0.2, random_state=5)\n",
    "\n",
    "model = RandomForestRegressor(n_estimators=100, random_state=0)\n",
    "model.fit(X_train, y_train)\n",
    "preds = model.predict(X_test)\n",
    "print(preds)\n",
    "print(mean_absolute_error(y_test, preds))\n",
    "\n"
   ]
  },
  {
   "cell_type": "markdown",
   "id": "b53a2451",
   "metadata": {},
   "source": [
    "# export&import fitted model\n",
    "first method"
   ]
  },
  {
   "cell_type": "code",
   "execution_count": 6,
   "id": "07c52141",
   "metadata": {},
   "outputs": [],
   "source": [
    "with open('model_divorce', 'wb') as f:\n",
    "    pickle.dump(model, f)\n",
    "    \n",
    "with open('model_divorce', 'rb') as f:\n",
    "    model2 = pickle.load(f)\n",
    "    \n",
    "preds2 = model2.predict(X_test)\n",
    "print(preds2)"
   ]
  },
  {
   "cell_type": "markdown",
   "id": "aca6b441",
   "metadata": {},
   "source": [
    "# export&import fitted model\n",
    "second method"
   ]
  },
  {
   "cell_type": "code",
   "execution_count": 4,
   "id": "de838ce8",
   "metadata": {},
   "outputs": [
    {
     "name": "stdout",
     "output_type": "stream",
     "text": [
      "[0.   1.   0.03 0.   0.06 0.   1.   1.   0.   1.   1.   1.   1.   0.\n",
      " 1.   1.   0.   0.96 1.   1.   1.   1.   1.   0.   0.   0.01 1.   1.\n",
      " 1.   1.   0.   0.   0.04 1.  ]\n"
     ]
    }
   ],
   "source": [
    "dump(model, 'modelDivorce.joblib')\n",
    "model3 = load('modelDivorce.joblib')\n",
    "\n",
    "preds3 = model3.predict(X_test)\n",
    "print(preds3)"
   ]
  }
 ],
 "metadata": {
  "kernelspec": {
   "display_name": "Python 3 (ipykernel)",
   "language": "python",
   "name": "python3"
  },
  "language_info": {
   "codemirror_mode": {
    "name": "ipython",
    "version": 3
   },
   "file_extension": ".py",
   "mimetype": "text/x-python",
   "name": "python",
   "nbconvert_exporter": "python",
   "pygments_lexer": "ipython3",
   "version": "3.8.10"
  }
 },
 "nbformat": 4,
 "nbformat_minor": 5
}
